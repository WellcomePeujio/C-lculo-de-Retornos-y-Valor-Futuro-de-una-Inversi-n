{
  "nbformat": 4,
  "nbformat_minor": 0,
  "metadata": {
    "colab": {
      "private_outputs": true,
      "provenance": [],
      "authorship_tag": "ABX9TyOKzInM/ZNMBA5N3UZPemoH",
      "include_colab_link": true
    },
    "kernelspec": {
      "name": "python3",
      "display_name": "Python 3"
    },
    "language_info": {
      "name": "python"
    }
  },
  "cells": [
    {
      "cell_type": "markdown",
      "metadata": {
        "id": "view-in-github",
        "colab_type": "text"
      },
      "source": [
        "<a href=\"https://colab.research.google.com/github/WellcomePeujio/C-lculo-de-Retornos-y-Valor-Futuro-de-una-Inversi-n/blob/main/ValorFuturoDeUnaInversi%C3%B3nipynb.ipynb\" target=\"_parent\"><img src=\"https://colab.research.google.com/assets/colab-badge.svg\" alt=\"Open In Colab\"/></a>"
      ]
    },
    {
      "cell_type": "markdown",
      "source": [
        "# ¿Cómo Crecerá Tu Dinero? Cálculo del Valor Futuro de una Inversión con Interés Compuesto\n",
        "\n",
        "Imagina que decides invertir una suma de dinero y quieres saber cuánto valdrá en el futuro, aprovechando el poder del interés compuesto. Con los siguientes datos, vamos a calcular cuánto crecerá tu inversión en 10 años.\n",
        "\n",
        "| Parámetro                             | Valor                |\n",
        "|---------------------------------------|----------------------|\n",
        "| Monto Inicial (Principal)             | $2000                |\n",
        "| Tasa de Interés Anual                 | 5%                   |\n",
        "| Número de Capitalizaciones por Año    | 4 (trimestral)       |\n",
        "| Número de Años                        | 10                   |\n",
        "\n",
        "Se pide:\n",
        "1. Calcular el valor futuro de la inversión después de 10 años utilizando la fórmula del interés compuesto.\n",
        "2. Analizar el impacto de la capitalización trimestral en el crecimiento de la inversión."
      ],
      "metadata": {
        "id": "_3k9EEptiPks"
      }
    },
    {
      "cell_type": "markdown",
      "source": [
        "# Resolución Matemática\n",
        "\n",
        "## Datos del Problema\n",
        "\n",
        "| Parámetro                             | Valor                |\n",
        "|---------------------------------------|----------------------|\n",
        "| Monto Inicial (Principal)             | $2000                |\n",
        "| Tasa de Interés Anual                 | 5%                   |\n",
        "| Número de Capitalizaciones por Año    | 4 (trimestral)       |\n",
        "| Número de Años                        | 10                   |\n",
        "\n",
        "## Fórmula del Interés Compuesto\n",
        "\n",
        "La fórmula del interés compuesto es:\n",
        "\n",
        "$$\n",
        "VF = P \\left(1 + \\frac{r}{n}\\right)^{nt}\n",
        "$$\n",
        "\n",
        "Donde:\n",
        "- \\( VF \\) = Valor Futuro\n",
        "- \\( P \\) = Monto Inicial (Principal)\n",
        "- \\( r \\) = Tasa de Interés Anual\n",
        "- \\( n \\) = Número de veces que se capitaliza el interés por año\n",
        "- \\( t \\) = Número de años\n",
        "\n",
        "### a. Cálculo del Valor Futuro con Capitalización Trimestral\n",
        "\n",
        "Sustituimos los valores en la fórmula:\n",
        "\n",
        "- \\( P = 2000 \\)\n",
        "- \\( r = 0.05 \\)\n",
        "- \\( n = 4 \\)\n",
        "- \\( t = 10 \\)\n",
        "\n",
        "$$\n",
        "VF_{trimestral} = 2000 \\left(1 + \\frac{0.05}{4}\\right)^{4 \\times 10}\n",
        "$$\n",
        "\n",
        "Calculamos:\n",
        "\n",
        "$$\n",
        "VF_{trimestral} = 2000 \\left(1 + 0.0125\\right)^{40}\n",
        "$$\n",
        "$$\n",
        "VF_{trimestral} \\approx 2000 \\left(1.0125\\right)^{40}\n",
        "$$\n",
        "$$\n",
        "VF_{trimestral} \\approx 2000 \\left(1.643619\\right)\n",
        "$$\n",
        "$$\n",
        "VF_{trimestral} \\approx 3287.24\n",
        "$$\n",
        "\n",
        "### b. Comparación con Capitalización Anual\n",
        "\n",
        "Sustituimos los valores en la fórmula con capitalización anual:\n",
        "\n",
        "- \\( P = 2000 \\)\n",
        "- \\( r = 0.05 \\)\n",
        "- \\( n = 1 \\)\n",
        "- \\( t = 10 \\)\n",
        "\n",
        "$$\n",
        "VF_{anual} = 2000 \\left(1 + \\frac{0.05}{1}\\right)^{1 \\times 10}\n",
        "$$\n",
        "\n",
        "Calculamos:\n",
        "\n",
        "$$\n",
        "VF_{anual} = 2000 \\left(1 + 0.05\\right)^{10}\n",
        "$$\n",
        "$$\n",
        "VF_{anual} \\approx 2000 \\left(1.05\\right)^{10}\n",
        "$$\n",
        "$$\n",
        "VF_{anual} \\approx 2000 \\left(1.628895\\right)\n",
        "$$\n",
        "$$\n",
        "VF_{anual} \\approx 3257.79\n",
        "$$\n",
        "\n",
        "**Comparación de Capitalización Trimestral vs. Anual:**\n",
        "\n",
        " **Valor Futuro con Capitalización Trimestral:** $3287.24\n",
        "\n",
        " **Valor Futuro con Capitalización Anual:** $3257.79\n",
        "\n",
        "La capitalización trimestral resulta en un valor futuro ligeramente mayor debido a la mayor frecuencia de capitalización del interés."
      ],
      "metadata": {
        "id": "DP_sVI6elVQr"
      }
    },
    {
      "cell_type": "markdown",
      "source": [
        "# La resolución del problema en Python:"
      ],
      "metadata": {
        "id": "srcvsTczmfMt"
      }
    },
    {
      "cell_type": "code",
      "source": [
        "\n",
        "import numpy as np\n",
        "import matplotlib.pyplot as plt\n",
        "\n",
        "# Datos\n",
        "principal = 2000\n",
        "tasa_interes_anual = 0.05\n",
        "n_trimestral = 4  # capitalización trimestral\n",
        "n_anual = 1  # capitalización anual\n",
        "t = 10  # número de años\n",
        "\n",
        "# Cálculo del Valor Futuro con capitalización trimestral\n",
        "valor_futuro_trimestral = principal * (1 + tasa_interes_anual / n_trimestral) ** (n_trimestral * t)\n",
        "\n",
        "# Cálculo del Valor Futuro con capitalización anual\n",
        "valor_futuro_anual = principal * (1 + tasa_interes_anual / n_anual) ** (n_anual * t)\n",
        "\n",
        "# Generar datos para las gráficas\n",
        "tiempo = np.arange(0, t + 1, 1)\n",
        "valor_futuro_trimestral_array = principal * (1 + tasa_interes_anual / n_trimestral) ** (n_trimestral * tiempo)\n",
        "valor_futuro_anual_array = principal * (1 + tasa_interes_anual / n_anual) ** (n_anual * tiempo)\n",
        "\n",
        "# Gráfica\n",
        "plt.figure(figsize=(10, 6))\n",
        "plt.plot(tiempo, valor_futuro_trimestral_array, label='Capitalización Trimestral', marker='o', linestyle='-', color='b')\n",
        "plt.plot(tiempo, valor_futuro_anual_array, label='Capitalización Anual', marker='x', linestyle='--', color='r')\n",
        "plt.xlabel('Años')\n",
        "plt.ylabel('Valor Futuro ($)')\n",
        "plt.title('Valor Futuro de una Inversión con Diferentes Frecuencias de Capitalización')\n",
        "plt.legend()\n",
        "plt.grid(True, linestyle='--', alpha=0.7)\n",
        "plt.xticks(np.arange(0, t + 1, 1))\n",
        "plt.yticks(np.arange(2000, valor_futuro_trimestral + 400, 100))\n",
        "plt.tight_layout()\n",
        "plt.show()\n",
        "\n",
        "# Mostrar resultados finales\n",
        "print(f\"Valor futuro con capitalización trimestral: ${valor_futuro_trimestral:.2f}\")\n",
        "print(f\"Valor futuro con capitalización anual: ${valor_futuro_anual:.2f}\")"
      ],
      "metadata": {
        "id": "qRJ6eDabnI1a"
      },
      "execution_count": null,
      "outputs": []
    }
  ]
}